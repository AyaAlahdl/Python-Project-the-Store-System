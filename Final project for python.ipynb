{
 "cells": [
  {
   "cell_type": "code",
   "execution_count": 2,
   "metadata": {
    "colab": {
     "base_uri": "https://localhost:8080/"
    },
    "id": "hV0r3M11U4HW",
    "outputId": "5fa50d27-4b68-49fd-b602-fdd65d4c8fa0"
   },
   "outputs": [
    {
     "name": "stdout",
     "output_type": "stream",
     "text": [
      "Requirement already satisfied: prettytable in c:\\users\\osc\\anaconda3\\lib\\site-packages (3.12.0)\n",
      "Requirement already satisfied: wcwidth in c:\\users\\osc\\anaconda3\\lib\\site-packages (0.2.5)\n"
     ]
    }
   ],
   "source": [
    "\n",
    "!pip install prettytable wcwidth\n",
    "\n",
    "from prettytable import PrettyTable\n",
    "\n",
    "\n",
    "main_store = [\n",
    "    {\"name\": \"Water\", \"price\": 80.0, \"quantity\": 1200},\n",
    "    {\"name\": \"Soda\", \"price\": 130.0, \"quantity\": 1200},\n",
    "    {\"name\": \"Chips\", \"price\": 75.0, \"quantity\": 1200},\n",
    "    {\"name\": \"Bread\", \"price\": 45.0, \"quantity\": 1200},\n",
    "    {\"name\": \"Eggs\", \"price\": 65.0, \"quantity\": 1200},\n",
    "]\n",
    "\n",
    "stationary_store = [\n",
    "    {\"name\": \"Notebook\", \"price\": 50.0, \"quantity\": 500},\n",
    "    {\"name\": \"Pen\", \"price\": 10.0, \"quantity\": 1000},\n",
    "    {\"name\": \"Pencil\", \"price\": 5.0, \"quantity\": 1500},\n",
    "    {\"name\": \"Eraser\", \"price\": 3.0, \"quantity\": 800},\n",
    "    {\"name\": \"Ruler\", \"price\": 20.0, \"quantity\": 300},\n",
    "]\n",
    "\n",
    "\n",
    "exchange_rates = {\"USD\": 1, \"EUR\": 0.92, \"EGP\": 30.50}\n",
    "\n",
    "\n",
    "def display_products(store):\n",
    "    table = PrettyTable()\n",
    "    table.field_names = [\"Name\", \"Price\", \"Quantity\"]\n",
    "    for product in store:\n",
    "        table.add_row([product[\"name\"], product[\"price\"], product[\"quantity\"]])\n",
    "    print(table)\n",
    "\n",
    "\n",
    "def calculate_main_store_discount(price, quantity):\n",
    "    discount_rate = min((quantity // 250) * 0.05, 0.25)\n",
    "    return price * quantity * (1 - discount_rate)\n",
    "\n",
    "def calculate_stationary_store_discount(price, quantity):\n",
    "    discount_rate = (quantity // 50) * 0.02\n",
    "    return price * quantity * (1 - discount_rate)\n",
    "\n",
    "\n",
    "def process_order(store, is_stationary=False):\n",
    "    total_price = 0\n",
    "    while True:\n",
    "        display_products(store)\n",
    "        product_name = input(\"Enter Product Name: \").strip().title()\n",
    "        product = next((item for item in store if item[\"name\"].lower() == product_name.lower()), None)\n",
    "\n",
    "        if not product:\n",
    "            print(\"Product not found. Please try again.\")\n",
    "            continue\n",
    "\n",
    "        quantity = int(input(f\"Enter Quantity Required (Available: {product['quantity']}): \"))\n",
    "        if quantity > product[\"quantity\"]:\n",
    "            print(\"Insufficient stock. Try again.\")\n",
    "            continue\n",
    "\n",
    "    \n",
    "        if is_stationary:\n",
    "            discounted_price = calculate_stationary_store_discount(product[\"price\"], quantity)\n",
    "        else:\n",
    "            discounted_price = calculate_main_store_discount(product[\"price\"], quantity)\n",
    "\n",
    "        print(f\"Discounted Price: ${discounted_price:.2f}\")\n",
    "        total_price += discounted_price\n",
    "        product[\"quantity\"] -= quantity\n",
    "\n",
    "        another_item = input(\"Do you want to add another item? (yes/no): \").strip().lower()\n",
    "        if another_item != \"yes\":\n",
    "            break\n",
    "    return total_price\n",
    "\n",
    "\n",
    "\n",
    "\n"
   ]
  },
  {
   "cell_type": "code",
   "execution_count": 3,
   "metadata": {
    "id": "s4VZk48canlc"
   },
   "outputs": [],
   "source": [
    "\n",
    "def main():\n",
    "    print(\"Welcome to the Store System\")\n",
    "    name = input(\"Enter Name: \")\n",
    "    password = input(\"Enter Password: \")\n",
    "\n",
    "    verification_code = \"904882\"\n",
    "    print(f\"Verification code is: {verification_code}\")\n",
    "    user_code = input(\"Enter Verification Code: \")\n",
    "\n",
    "    if user_code != verification_code:\n",
    "        print(\"Invalid verification code. Exiting.\")\n",
    "        return\n",
    "\n",
    "    print(\"Welcome\")\n",
    "\n",
    "    \n",
    "    print(\"\\nMain Store Products:\")\n",
    "    main_total = process_order(main_store)\n",
    "\n",
    "  \n",
    "    visit_stationary = input(\"Do you want to visit our new stationary store? (yes/no): \").strip().lower()\n",
    "    stationary_total = 0\n",
    "    if visit_stationary == \"yes\":\n",
    "        print(\"\\nStationary Store Products:\")\n",
    "        stationary_total = process_order(stationary_store, is_stationary=True)\n",
    "\n",
    "    delivery_method = input(\"Do you want delivery or pick-up? (Enter 'delivery' or 'pick-up'): \").strip().lower()\n",
    "    if delivery_method == \"delivery\":\n",
    "        delivery_charge = 20\n",
    "    else:\n",
    "        delivery_charge = 50\n",
    "\n",
    "   \n",
    "    total_price = main_total + stationary_total + delivery_charge\n",
    "    print(f\"Total Price (including delivery/pickup): ${total_price:.2f}\")\n",
    "    currency = input(\"Choose a payment currency (USD, EUR, EGP): \").strip().upper()\n",
    "    if currency not in exchange_rates:\n",
    "        print(\"Invalid currency. Defaulting to USD.\")\n",
    "        currency = \"USD\"\n",
    "\n",
    "    converted_price = total_price * exchange_rates[currency]\n",
    "    print(f\"Total Price in {currency}: {converted_price:.2f}\")\n",
    "    print(\"Your order is on the way!\")\n",
    "\n"
   ]
  },
  {
   "cell_type": "code",
   "execution_count": 5,
   "metadata": {
    "colab": {
     "base_uri": "https://localhost:8080/"
    },
    "id": "MBpk8c_TamyT",
    "outputId": "7d895ad6-d4de-44a6-fb3a-ae84ba852286"
   },
   "outputs": [
    {
     "name": "stdout",
     "output_type": "stream",
     "text": [
      "Welcome to the Store System\n",
      "Verification code is: 904882\n",
      "Welcome\n",
      "\n",
      "Main Store Products:\n",
      "+-------+-------+----------+\n",
      "|  Name | Price | Quantity |\n",
      "+-------+-------+----------+\n",
      "| Water |  80.0 |   1192   |\n",
      "|  Soda | 130.0 |   1200   |\n",
      "| Chips |  75.0 |   1200   |\n",
      "| Bread |  45.0 |   1200   |\n",
      "|  Eggs |  65.0 |   1200   |\n",
      "+-------+-------+----------+\n",
      "Discounted Price: $640.00\n",
      "\n",
      "Stationary Store Products:\n",
      "+----------+-------+----------+\n",
      "|   Name   | Price | Quantity |\n",
      "+----------+-------+----------+\n",
      "| Notebook |  50.0 |   500    |\n",
      "|   Pen    |  10.0 |   1000   |\n",
      "|  Pencil  |  5.0  |   1500   |\n",
      "|  Eraser  |  3.0  |   800    |\n",
      "|  Ruler   |  20.0 |   300    |\n",
      "+----------+-------+----------+\n",
      "Discounted Price: $90.00\n",
      "Total Price (including delivery/pickup): $780.00\n",
      "Total Price in EGP: 23790.00\n",
      "Your order is on the way!\n"
     ]
    }
   ],
   "source": [
    "main()"
   ]
  },
  {
   "cell_type": "code",
   "execution_count": null,
   "metadata": {},
   "outputs": [],
   "source": []
  }
 ],
 "metadata": {
  "colab": {
   "provenance": []
  },
  "kernelspec": {
   "display_name": "base",
   "language": "python",
   "name": "python3"
  },
  "language_info": {
   "codemirror_mode": {
    "name": "ipython",
    "version": 3
   },
   "file_extension": ".py",
   "mimetype": "text/x-python",
   "name": "python",
   "nbconvert_exporter": "python",
   "pygments_lexer": "ipython3",
   "version": "3.12.7"
  }
 },
 "nbformat": 4,
 "nbformat_minor": 0
}
